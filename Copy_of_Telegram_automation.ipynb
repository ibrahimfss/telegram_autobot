{
  "cells": [
    {
      "cell_type": "markdown",
      "metadata": {
        "id": "view-in-github",
        "colab_type": "text"
      },
      "source": [
        "<a href=\"https://colab.research.google.com/github/ibrahimfss/telegram_autobot/blob/main/Copy_of_Telegram_automation.ipynb\" target=\"_parent\"><img src=\"https://colab.research.google.com/assets/colab-badge.svg\" alt=\"Open In Colab\"/></a>"
      ]
    },
    {
      "cell_type": "code",
      "execution_count": 1,
      "metadata": {
        "colab": {
          "base_uri": "https://localhost:8080/"
        },
        "id": "qdAD9kGvZ6hA",
        "outputId": "0771bb3d-470e-4427-b135-ef9bb4520bb2"
      },
      "outputs": [
        {
          "output_type": "stream",
          "name": "stdout",
          "text": [
            "Collecting telethon\n",
            "  Downloading telethon-1.41.2-py3-none-any.whl.metadata (3.9 kB)\n",
            "Requirement already satisfied: openai in /usr/local/lib/python3.12/dist-packages (1.109.1)\n",
            "Collecting schedule\n",
            "  Downloading schedule-1.2.2-py3-none-any.whl.metadata (3.8 kB)\n",
            "Collecting pyaes (from telethon)\n",
            "  Downloading pyaes-1.6.1.tar.gz (28 kB)\n",
            "  Preparing metadata (setup.py) ... \u001b[?25l\u001b[?25hdone\n",
            "Requirement already satisfied: rsa in /usr/local/lib/python3.12/dist-packages (from telethon) (4.9.1)\n",
            "Requirement already satisfied: anyio<5,>=3.5.0 in /usr/local/lib/python3.12/dist-packages (from openai) (4.11.0)\n",
            "Requirement already satisfied: distro<2,>=1.7.0 in /usr/local/lib/python3.12/dist-packages (from openai) (1.9.0)\n",
            "Requirement already satisfied: httpx<1,>=0.23.0 in /usr/local/lib/python3.12/dist-packages (from openai) (0.28.1)\n",
            "Requirement already satisfied: jiter<1,>=0.4.0 in /usr/local/lib/python3.12/dist-packages (from openai) (0.11.0)\n",
            "Requirement already satisfied: pydantic<3,>=1.9.0 in /usr/local/lib/python3.12/dist-packages (from openai) (2.11.9)\n",
            "Requirement already satisfied: sniffio in /usr/local/lib/python3.12/dist-packages (from openai) (1.3.1)\n",
            "Requirement already satisfied: tqdm>4 in /usr/local/lib/python3.12/dist-packages (from openai) (4.67.1)\n",
            "Requirement already satisfied: typing-extensions<5,>=4.11 in /usr/local/lib/python3.12/dist-packages (from openai) (4.15.0)\n",
            "Requirement already satisfied: idna>=2.8 in /usr/local/lib/python3.12/dist-packages (from anyio<5,>=3.5.0->openai) (3.10)\n",
            "Requirement already satisfied: certifi in /usr/local/lib/python3.12/dist-packages (from httpx<1,>=0.23.0->openai) (2025.8.3)\n",
            "Requirement already satisfied: httpcore==1.* in /usr/local/lib/python3.12/dist-packages (from httpx<1,>=0.23.0->openai) (1.0.9)\n",
            "Requirement already satisfied: h11>=0.16 in /usr/local/lib/python3.12/dist-packages (from httpcore==1.*->httpx<1,>=0.23.0->openai) (0.16.0)\n",
            "Requirement already satisfied: annotated-types>=0.6.0 in /usr/local/lib/python3.12/dist-packages (from pydantic<3,>=1.9.0->openai) (0.7.0)\n",
            "Requirement already satisfied: pydantic-core==2.33.2 in /usr/local/lib/python3.12/dist-packages (from pydantic<3,>=1.9.0->openai) (2.33.2)\n",
            "Requirement already satisfied: typing-inspection>=0.4.0 in /usr/local/lib/python3.12/dist-packages (from pydantic<3,>=1.9.0->openai) (0.4.2)\n",
            "Requirement already satisfied: pyasn1>=0.1.3 in /usr/local/lib/python3.12/dist-packages (from rsa->telethon) (0.6.1)\n",
            "Downloading telethon-1.41.2-py3-none-any.whl (744 kB)\n",
            "\u001b[2K   \u001b[90m━━━━━━━━━━━━━━━━━━━━━━━━━━━━━━━━━━━━━━━━\u001b[0m \u001b[32m744.9/744.9 kB\u001b[0m \u001b[31m38.2 MB/s\u001b[0m eta \u001b[36m0:00:00\u001b[0m\n",
            "\u001b[?25hDownloading schedule-1.2.2-py3-none-any.whl (12 kB)\n",
            "Building wheels for collected packages: pyaes\n",
            "  Building wheel for pyaes (setup.py) ... \u001b[?25l\u001b[?25hdone\n",
            "  Created wheel for pyaes: filename=pyaes-1.6.1-py3-none-any.whl size=26347 sha256=df2d551a7cd268a516d545cdb005ca6c7966a238c6adec119267925009335f0e\n",
            "  Stored in directory: /root/.cache/pip/wheels/d9/43/32/ec313dd557e88e419489b9df40c04dad7b99576bde162496f8\n",
            "Successfully built pyaes\n",
            "Installing collected packages: pyaes, schedule, telethon\n",
            "Successfully installed pyaes-1.6.1 schedule-1.2.2 telethon-1.41.2\n",
            "Collecting python-telegram-bot\n",
            "  Downloading python_telegram_bot-22.5-py3-none-any.whl.metadata (17 kB)\n",
            "Requirement already satisfied: httpx<0.29,>=0.27 in /usr/local/lib/python3.12/dist-packages (from python-telegram-bot) (0.28.1)\n",
            "Requirement already satisfied: anyio in /usr/local/lib/python3.12/dist-packages (from httpx<0.29,>=0.27->python-telegram-bot) (4.11.0)\n",
            "Requirement already satisfied: certifi in /usr/local/lib/python3.12/dist-packages (from httpx<0.29,>=0.27->python-telegram-bot) (2025.8.3)\n",
            "Requirement already satisfied: httpcore==1.* in /usr/local/lib/python3.12/dist-packages (from httpx<0.29,>=0.27->python-telegram-bot) (1.0.9)\n",
            "Requirement already satisfied: idna in /usr/local/lib/python3.12/dist-packages (from httpx<0.29,>=0.27->python-telegram-bot) (3.10)\n",
            "Requirement already satisfied: h11>=0.16 in /usr/local/lib/python3.12/dist-packages (from httpcore==1.*->httpx<0.29,>=0.27->python-telegram-bot) (0.16.0)\n",
            "Requirement already satisfied: sniffio>=1.1 in /usr/local/lib/python3.12/dist-packages (from anyio->httpx<0.29,>=0.27->python-telegram-bot) (1.3.1)\n",
            "Requirement already satisfied: typing_extensions>=4.5 in /usr/local/lib/python3.12/dist-packages (from anyio->httpx<0.29,>=0.27->python-telegram-bot) (4.15.0)\n",
            "Downloading python_telegram_bot-22.5-py3-none-any.whl (730 kB)\n",
            "\u001b[2K   \u001b[90m━━━━━━━━━━━━━━━━━━━━━━━━━━━━━━━━━━━━━━━━\u001b[0m \u001b[32m731.0/731.0 kB\u001b[0m \u001b[31m26.5 MB/s\u001b[0m eta \u001b[36m0:00:00\u001b[0m\n",
            "\u001b[?25hInstalling collected packages: python-telegram-bot\n",
            "Successfully installed python-telegram-bot-22.5\n",
            "✅ All Telegram libraries installed successfully!\n"
          ]
        }
      ],
      "source": [
        "# STEP 1: INSTALL ALL LIBRARIES\n",
        "!pip install telethon openai schedule\n",
        "!pip install python-telegram-bot\n",
        "\n",
        "print(\"✅ All Telegram libraries installed successfully!\")"
      ]
    },
    {
      "cell_type": "code",
      "execution_count": 2,
      "metadata": {
        "colab": {
          "base_uri": "https://localhost:8080/"
        },
        "id": "lCCWxBptbi-V",
        "outputId": "33317ad3-0645-49ab-831a-4d0244559f43"
      },
      "outputs": [
        {
          "output_type": "stream",
          "name": "stdout",
          "text": [
            "✅ All libraries imported successfully!\n"
          ]
        }
      ],
      "source": [
        "# STEP 2: IMPORT LIBRARIES\n",
        "from telethon import TelegramClient\n",
        "import asyncio\n",
        "import openai\n",
        "import random\n",
        "import time\n",
        "import schedule\n",
        "\n",
        "print(\"✅ All libraries imported successfully!\")"
      ]
    },
    {
      "cell_type": "code",
      "execution_count": 3,
      "metadata": {
        "colab": {
          "base_uri": "https://localhost:8080/"
        },
        "id": "hsT_brR1bnel",
        "outputId": "7323dd4d-74a1-4278-ceeb-51dbdbcdd3a1"
      },
      "outputs": [
        {
          "output_type": "stream",
          "name": "stdout",
          "text": [
            "✅ Telegram credentials loaded!\n"
          ]
        }
      ],
      "source": [
        "# STEP 3: TELEGRAM API CREDENTIALS\n",
        "# 🔧 APNA DATA YAHAN DAALO:\n",
        "\n",
        "API_ID = 25111726                    # 🔧 Yaha apna API ID daalo\n",
        "API_HASH = '3c46706cb42ace11b5caed043ebb186c'     # 🔧 Yaha apna API Hash daalo\n",
        "\n",
        "# 3 Phone Numbers (Apne 3 numbers daalo)\n",
        "PHONE_1 = '+919453620517'           # 🔧 Apna pehla number\n",
        "PHONE_2 = '+919454907095'           # 🔧 Apna dusra number\n",
        "PHONE_3 = '+919532497175'           # 🔧 Apna teesra number\n",
        "\n",
        "print(\"✅ Telegram credentials loaded!\")"
      ]
    },
    {
      "cell_type": "code",
      "execution_count": 4,
      "metadata": {
        "colab": {
          "base_uri": "https://localhost:8080/"
        },
        "id": "SMuepOImc5uY",
        "outputId": "46047d59-5600-4dbd-a6c4-92303912b6cc"
      },
      "outputs": [
        {
          "output_type": "stream",
          "name": "stdout",
          "text": [
            "✅ 21 Telegram groups loaded!\n"
          ]
        }
      ],
      "source": [
        "# STEP 4: TELEGRAM GROUPS LIST\n",
        "# 🔧 APNE JOINED GROUPS KE LINKS YAHAN DAALO:\n",
        "\n",
        "TELEGRAM_GROUPS = [\n",
        "    'https://t.me/x_1xbet',\n",
        "    'https://t.me/bocaijiaoliu2',\n",
        "    'https://t.me/Khmerimpire7895',\n",
        "    'https://t.me/cross_promotions1',\n",
        "    'https://t.me/jobs_khmer',\n",
        "    'https://t.me/Radiklar_tanishuvlar1',\n",
        "    'https://t.me/friendshub03',\n",
        "    'https://t.me/UA_servis_UK',\n",
        "    'https://t.me/prague_brno_ostrava',\n",
        "    'https://t.me/londontalks_ua',\n",
        "    'https://t.me/studentkichatik',\n",
        "    'https://t.me/pasu_parichar2025',\n",
        "    'https://t.me/solanarocketschat',\n",
        "    'https://t.me/earningmoneyeth',\n",
        "    'https://t.me/freeabyssinia',\n",
        "    'https://t.me/svoilondon',\n",
        "    'https://t.me/nashiyfranchii',\n",
        "    'https://t.me/korubor11',\n",
        "    'https://t.me/oejagafa',\n",
        "    'https://t.me/videnua',\n",
        "    'https://t.me/polandukraine1',\n",
        "    # 5-10 aur groups ke links daalo\n",
        "]\n",
        "\n",
        "print(f\"✅ {len(TELEGRAM_GROUPS)} Telegram groups loaded!\")"
      ]
    },
    {
      "cell_type": "code",
      "execution_count": 6,
      "metadata": {
        "colab": {
          "base_uri": "https://localhost:8080/"
        },
        "id": "mirM4_TYeG0-",
        "outputId": "e7ff2807-1afe-4c43-9c42-314131297675"
      },
      "outputs": [
        {
          "output_type": "stream",
          "name": "stdout",
          "text": [
            "🤖 Testing Hourly AI Post Generator:\n",
            "🏆 SPECIAL PROMOCODE OFFER! 🎁\n",
            "Get 500% BONUS on 1Win with Promocode: OGGY! 💰\n",
            "Easy Registration ✅ Fast Withdrawals ⚡\n",
            "Daily Bonuses 🎯\n",
            "\n",
            "🎯 Register Now: https://lkxd.cc/98a4\n",
            "🔥 Use Promocode: OGGY\n",
            "\n",
            "#1Win #Bonus #OGGY\n"
          ]
        }
      ],
      "source": [
        "# STEP 5: HOURLY AI POST GENERATOR WITH PROMOCODE\n",
        "# 🔧 APNA 1WIN AFFILIATE LINK YAHAN DAALO:\n",
        "\n",
        "AFFILIATE_LINK = \"https://lkxd.cc/98a4\"  # 🔧 Apna real link daalo\n",
        "\n",
        "def generate_hourly_telegram_post():\n",
        "    post_templates = [\n",
        "        \"Create a new motivational post about winning money on 1Win with 500% bonus and promocode OGGY - make it unique and engaging\",\n",
        "        \"Write a fresh inspiring post about financial freedom through 1Win with 500% bonus using promocode OGGY - make it different from previous posts\",\n",
        "        \"Create a new success story about daily earnings on 1Win with 500% welcome bonus and promocode OGGY - use different examples\",\n",
        "        \"Write a unique tips post for maximizing profits on 1Win with 500% bonus and promocode OGGY - provide new insights\"\n",
        "    ]\n",
        "\n",
        "    selected_template = random.choice(post_templates)\n",
        "\n",
        "    try:\n",
        "        response = openai.ChatCompletion.create(\n",
        "            model=\"gpt-3.5-turbo\",\n",
        "            messages=[\n",
        "                {\"role\": \"user\", \"content\": selected_template + \" Use Hindi/English mix. Highlight 500% bonus and promocode OGGY. Make each message unique and motivational.\"}\n",
        "            ],\n",
        "            max_tokens=120,\n",
        "            temperature=0.9\n",
        "        )\n",
        "\n",
        "        post_content = response.choices[0].message.content\n",
        "\n",
        "        # Different formats for variety\n",
        "        formats = [\n",
        "            f\"🚀 {post_content}\\n\\n🎯 Register: {AFFILIATE_LINK}\\n🔥 Promocode: OGGY\\n💰 500% BONUS!\\n\\n#1Win #500Bonus #OGGY\",\n",
        "            f\"💰 {post_content}\\n\\n🔗 {AFFILIATE_LINK}\\n🎁 Use Code: OGGY\\n⚡ 500% WELCOME BONUS!\\n\\n#WinBig #OGGY #Bonus\",\n",
        "            f\"🏆 {post_content}\\n\\n👉 Register: {AFFILIATE_LINK}\\n💎 Promocode: OGGY\\n🎯 500% EXTRA BONUS!\\n\\n#1Win #Promo #OGGY\"\n",
        "        ]\n",
        "\n",
        "        return random.choice(formats)\n",
        "\n",
        "    except Exception as e:\n",
        "        # Fallback messages\n",
        "        fallback_messages = [\n",
        "            f\"🚀 LIMITED TIME! 500% BONUS on 1Win! 💰\\nUse Promocode: OGGY for extra bonus! 🎁\\nSports Betting 🏏 | Casino Games 🎰\\nQuick Withdrawals! ⚡\\n\\n🎯 Register: {AFFILIATE_LINK}\\n🔥 Promocode: OGGY\\n\\n#1Win #500Bonus #OGGY\",\n",
        "            f\"💰 GET 500% WELCOME BONUS! 🎯\\n1Win par abhi register karo aur 500% bonus pao! 💸\\nPromocode: OGGY use karo! 🎁\\nLive Betting ⚡ | 24/7 Support 📞\\n\\n🔗 {AFFILIATE_LINK}\\n🔥 Promocode: OGGY\\n\\n#WinBig #OGGY\",\n",
        "            f\"🏆 SPECIAL PROMOCODE OFFER! 🎁\\nGet 500% BONUS on 1Win with Promocode: OGGY! 💰\\nEasy Registration ✅ Fast Withdrawals ⚡\\nDaily Bonuses 🎯\\n\\n🎯 Register Now: {AFFILIATE_LINK}\\n🔥 Use Promocode: OGGY\\n\\n#1Win #Bonus #OGGY\"\n",
        "        ]\n",
        "        return random.choice(fallback_messages)\n",
        "\n",
        "# Test AI\n",
        "print(\"🤖 Testing Hourly AI Post Generator:\")\n",
        "test_post = generate_hourly_telegram_post()\n",
        "print(test_post)"
      ]
    },
    {
      "cell_type": "code",
      "execution_count": 7,
      "metadata": {
        "colab": {
          "base_uri": "https://localhost:8080/"
        },
        "id": "G8qj8iapfOWb",
        "outputId": "d50dab85-5f86-40bc-ede8-938366cc1b5c"
      },
      "outputs": [
        {
          "output_type": "stream",
          "name": "stdout",
          "text": [
            "✅ Hourly automation bot created!\n"
          ]
        }
      ],
      "source": [
        "# STEP 6: MULTI-ACCOUNT HOURLY AUTOMATION\n",
        "class HourlyTelegramBot:\n",
        "    def __init__(self):\n",
        "        self.accounts = [\n",
        "            {'phone': PHONE_1, 'session': 'account1.session'},\n",
        "            {'phone': PHONE_2, 'session': 'account2.session'},\n",
        "            {'phone': PHONE_3, 'session': 'account3.session'}\n",
        "        ]\n",
        "        self.clients = []\n",
        "\n",
        "    async def initialize_accounts(self):\n",
        "        \"\"\"Sab accounts initialize karta hai\"\"\"\n",
        "        print(\"🔐 Initializing Telegram accounts...\")\n",
        "\n",
        "        for account in self.accounts:\n",
        "            try:\n",
        "                client = TelegramClient(account['session'], API_ID, API_HASH)\n",
        "                await client.start(phone=account['phone'])\n",
        "                self.clients.append(client)\n",
        "                print(f\"✅ {account['phone']} - Login successful!\")\n",
        "            except Exception as e:\n",
        "                print(f\"❌ {account['phone']} - Login failed: {str(e)}\")\n",
        "\n",
        "    async def send_to_group(self, client, group_link):\n",
        "        \"\"\"Ek group mein message send karta hai\"\"\"\n",
        "        try:\n",
        "            message = generate_hourly_telegram_post()\n",
        "            entity = await client.get_entity(group_link)\n",
        "            await client.send_message(entity, message)\n",
        "            print(f\"✅ Message sent to {group_link}\")\n",
        "            return True\n",
        "        except Exception as e:\n",
        "            print(f\"❌ Error in {group_link}: {str(e)}\")\n",
        "            return False\n",
        "\n",
        "    async def hourly_broadcast(self):\n",
        "        \"\"\"Har account se sab groups mein messages send karta hai\"\"\"\n",
        "        print(f\"\\n🕐 Starting Hourly Broadcast - {time.strftime('%H:%M:%S')}\")\n",
        "\n",
        "        total_sent = 0\n",
        "\n",
        "        for i, client in enumerate(self.clients):\n",
        "            print(f\"\\n📱 Account {i+1} processing...\")\n",
        "            account_sent = 0\n",
        "\n",
        "            for group_link in TELEGRAM_GROUPS:\n",
        "                try:\n",
        "                    success = await self.send_to_group(client, group_link)\n",
        "                    if success:\n",
        "                        account_sent += 1\n",
        "                        total_sent += 1\n",
        "\n",
        "                    # 2-3 minutes wait between groups\n",
        "                    wait_time = random.randint(120, 180)\n",
        "                    print(f\"⏳ Waiting {wait_time} seconds...\")\n",
        "                    await asyncio.sleep(wait_time)\n",
        "\n",
        "                except Exception as e:\n",
        "                    print(f\"❌ Group error: {str(e)}\")\n",
        "                    continue\n",
        "\n",
        "            print(f\"✅ Account {i+1}: {account_sent}/{len(TELEGRAM_GROUPS)} groups\")\n",
        "\n",
        "        print(f\"\\n🎉 Hourly broadcast completed! Total: {total_sent} messages sent\")\n",
        "        return total_sent\n",
        "\n",
        "    async def start_hourly_automation(self):\n",
        "        \"\"\"Har 1 ghante mein automation run karta hai\"\"\"\n",
        "        try:\n",
        "            # Accounts initialize karo\n",
        "            await self.initialize_accounts()\n",
        "            print(\"✅ All accounts initialized!\")\n",
        "\n",
        "            # Pehla broadcast immediately\n",
        "            print(\"\\n🚀 Starting first broadcast immediately...\")\n",
        "            await self.hourly_broadcast()\n",
        "\n",
        "            # Har 1 ghante mein repeat karo\n",
        "            while True:\n",
        "                print(f\"\\n⏰ Next broadcast at: {time.strftime('%H:%M:%S')}\")\n",
        "                await asyncio.sleep(3600)  # 1 hour wait\n",
        "                await self.hourly_broadcast()\n",
        "\n",
        "        except Exception as e:\n",
        "            print(f\"❌ Automation error: {str(e)}\")\n",
        "\n",
        "# Bot object create karo\n",
        "hourly_bot = HourlyTelegramBot()\n",
        "print(\"✅ Hourly automation bot created!\")"
      ]
    },
    {
      "cell_type": "code",
      "execution_count": null,
      "metadata": {
        "colab": {
          "base_uri": "https://localhost:8080/"
        },
        "id": "U00Msac_ukfC",
        "outputId": "a38d519a-8032-4d7f-a672-c4bd2a8d99bc"
      },
      "outputs": [
        {
          "metadata": {
            "tags": null
          },
          "name": "stdout",
          "output_type": "stream",
          "text": [
            "==================================================\n",
            "🚀 TELEGRAM HOURLY AUTOMATION STARTING\n",
            "==================================================\n",
            "📱 Accounts: 3\n",
            "📊 Groups: 21\n",
            "⏰ Frequency: Every 1 hour\n",
            "🎁 Promocode: OGGY\n",
            "==================================================\n",
            "⏳ Starting in 5 seconds...\n",
            "🔐 Initializing Telegram accounts...\n",
            "Signed in successfully as 🩷; remember to not break the ToS or you will risk an account ban!\n",
            "✅ +919453620517 - Login successful!\n",
            "Signed in successfully as Sr. Affiliate Manager; remember to not break the ToS or you will risk an account ban!\n",
            "✅ +919454907095 - Login successful!\n",
            "Signed in successfully as Sofie; remember to not break the ToS or you will risk an account ban!\n",
            "✅ +919532497175 - Login successful!\n",
            "✅ All accounts initialized!\n",
            "\n",
            "🚀 Starting first broadcast immediately...\n",
            "\n",
            "🕐 Starting Hourly Broadcast - 13:18:54\n",
            "\n",
            "📱 Account 1 processing...\n",
            "✅ Message sent to https://t.me/x_1xbet\n",
            "⏳ Waiting 156 seconds...\n"
          ]
        },
        {
          "metadata": {
            "tags": null
          },
          "name": "stderr",
          "output_type": "stream",
          "text": [
            "WARNING:telethon.client.users:Telegram is having internal issues PersistentTimestampOutdatedError: Persistent timestamp outdated (caused by GetChannelDifferenceRequest)\n",
            "WARNING:telethon.client.users:Telegram is having internal issues PersistentTimestampOutdatedError: Persistent timestamp outdated (caused by GetChannelDifferenceRequest)\n",
            "WARNING:telethon.client.users:Telegram is having internal issues PersistentTimestampOutdatedError: Persistent timestamp outdated (caused by GetChannelDifferenceRequest)\n"
          ]
        },
        {
          "metadata": {
            "tags": null
          },
          "name": "stdout",
          "output_type": "stream",
          "text": [
            "✅ Message sent to https://t.me/bocaijiaoliu2\n",
            "⏳ Waiting 165 seconds...\n"
          ]
        },
        {
          "output_type": "stream",
          "name": "stderr",
          "text": [
            "WARNING:telethon.client.users:Telegram is having internal issues PersistentTimestampOutdatedError: Persistent timestamp outdated (caused by GetChannelDifferenceRequest)\n",
            "WARNING:telethon.client.users:Telegram is having internal issues PersistentTimestampOutdatedError: Persistent timestamp outdated (caused by GetChannelDifferenceRequest)\n",
            "WARNING:telethon.client.users:Telegram is having internal issues PersistentTimestampOutdatedError: Persistent timestamp outdated (caused by GetChannelDifferenceRequest)\n",
            "WARNING:telethon.client.users:Telegram is having internal issues PersistentTimestampOutdatedError: Persistent timestamp outdated (caused by GetChannelDifferenceRequest)\n",
            "WARNING:telethon.client.users:Telegram is having internal issues PersistentTimestampOutdatedError: Persistent timestamp outdated (caused by GetChannelDifferenceRequest)\n",
            "WARNING:telethon.client.users:Telegram is having internal issues PersistentTimestampOutdatedError: Persistent timestamp outdated (caused by GetChannelDifferenceRequest)\n",
            "WARNING:telethon.client.users:Telegram is having internal issues PersistentTimestampOutdatedError: Persistent timestamp outdated (caused by GetChannelDifferenceRequest)\n",
            "WARNING:telethon.client.users:Telegram is having internal issues PersistentTimestampOutdatedError: Persistent timestamp outdated (caused by GetChannelDifferenceRequest)\n",
            "WARNING:telethon.client.users:Telegram is having internal issues PersistentTimestampOutdatedError: Persistent timestamp outdated (caused by GetChannelDifferenceRequest)\n"
          ]
        }
      ],
      "source": [
        "# STEP 7: RUN HOURLY AUTOMATION (COLAB COMPATIBLE)\n",
        "import nest_asyncio\n",
        "nest_asyncio.apply()\n",
        "\n",
        "print(\"=\" * 50)\n",
        "print(\"🚀 TELEGRAM HOURLY AUTOMATION STARTING\")\n",
        "print(\"=\" * 50)\n",
        "print(f\"📱 Accounts: 3\")\n",
        "print(f\"📊 Groups: {len(TELEGRAM_GROUPS)}\")\n",
        "print(f\"⏰ Frequency: Every 1 hour\")\n",
        "print(f\"🎁 Promocode: OGGY\")\n",
        "print(\"=\" * 50)\n",
        "\n",
        "print(\"⏳ Starting in 5 seconds...\")\n",
        "time.sleep(5)\n",
        "\n",
        "# Run the automation\n",
        "await hourly_bot.start_hourly_automation()"
      ]
    }
  ],
  "metadata": {
    "colab": {
      "provenance": [],
      "authorship_tag": "ABX9TyPZZLZMI24n9b32U4/K3nVD",
      "include_colab_link": true
    },
    "kernelspec": {
      "display_name": "Python 3",
      "name": "python3"
    },
    "language_info": {
      "name": "python"
    }
  },
  "nbformat": 4,
  "nbformat_minor": 0
}